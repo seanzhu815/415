{
  "cells": [
    {
      "cell_type": "markdown",
      "metadata": {
        "id": "view-in-github",
        "colab_type": "text"
      },
      "source": [
        "<a href=\"https://colab.research.google.com/github/seanzhu815/415/blob/main/415assignment2.ipynb\" target=\"_parent\"><img src=\"https://colab.research.google.com/assets/colab-badge.svg\" alt=\"Open In Colab\"/></a>"
      ]
    },
    {
      "cell_type": "markdown",
      "source": [
        "#import modules"
      ],
      "metadata": {
        "id": "B6LFp1Z_MvTe"
      }
    },
    {
      "cell_type": "code",
      "execution_count": 99,
      "metadata": {
        "id": "xRtlk1128-iL"
      },
      "outputs": [],
      "source": [
        "# Load Packages\n",
        "\n",
        "import pandas as pd\n",
        "import numpy as np\n",
        "import statsmodels.api as sm\n",
        "import matplotlib.pyplot as plt\n",
        "\n",
        "\n"
      ]
    },
    {
      "cell_type": "markdown",
      "source": [
        "#Part1"
      ],
      "metadata": {
        "id": "rzvoSq-dMq2A"
      }
    },
    {
      "cell_type": "markdown",
      "source": [
        "##a&b"
      ],
      "metadata": {
        "id": "fhfR_TjkMz_5"
      }
    },
    {
      "cell_type": "code",
      "source": [
        "# Load Data\n",
        "df = pd.read_csv('drive/MyDrive/MGTF415/data-crsp-lecture-4.csv')\n",
        "\n",
        "# Rename Colums\n",
        "df.columns = ['permno', 'date', 'price', 'adjFactor']\n",
        "\n",
        "# Create Ticker Variable\n",
        "conditions = [\n",
        "    (df['permno'] == 90878),\n",
        "    (df['permno'] == 77178)]\n",
        "choices = ['VTI', 'QCOM']\n",
        "df['ticker'] = np.select(conditions, choices)"
      ],
      "metadata": {
        "id": "XaJOEr9TMren"
      },
      "execution_count": 100,
      "outputs": []
    },
    {
      "cell_type": "markdown",
      "source": [
        "## c"
      ],
      "metadata": {
        "id": "GdI8o-95M6w0"
      }
    },
    {
      "cell_type": "code",
      "source": [
        "# Pivot the Table\n",
        "df = df.pivot(index = 'date', columns = 'ticker', \n",
        "                values = ['price', 'adjFactor']).reset_index()\n",
        "df.columns = list(map(\"\".join, df.columns))"
      ],
      "metadata": {
        "id": "0unkQoLEJigf"
      },
      "execution_count": 101,
      "outputs": []
    },
    {
      "cell_type": "markdown",
      "source": [
        "##d"
      ],
      "metadata": {
        "id": "zlaxU1rrNAp7"
      }
    },
    {
      "cell_type": "code",
      "source": [
        "# Convert date variable to datetime\n",
        "df['date'] = pd.to_datetime(df['date'])\n"
      ],
      "metadata": {
        "id": "gWbQhRiKNBtw"
      },
      "execution_count": 102,
      "outputs": []
    },
    {
      "cell_type": "markdown",
      "source": [
        "##e"
      ],
      "metadata": {
        "id": "7bMEmHY7NKco"
      }
    },
    {
      "cell_type": "code",
      "source": [
        "# Drop empty prices\n",
        "df = df[(df['priceQCOM'].notna()) & (df['priceVTI'].notna())]\n",
        "\n",
        "# Adjust for splits\n",
        "df['priceVTI'] = df['priceVTI'] / df['adjFactorVTI']\n",
        "df['priceQCOM'] = df['priceQCOM'] / df['adjFactorQCOM'] \n",
        "\n"
      ],
      "metadata": {
        "id": "jtud7Z6fJjrM"
      },
      "execution_count": 103,
      "outputs": []
    },
    {
      "cell_type": "markdown",
      "source": [
        "##f"
      ],
      "metadata": {
        "id": "6J_Vtgj7NULE"
      }
    },
    {
      "cell_type": "code",
      "source": [
        "# Target allocation\n",
        "targetVTI = 0.70\n",
        "\n",
        "# Initial prices: 71.410005 (VTI) and 37.6600 (QCOM)\n",
        "\n",
        "# Initial number of shares (chosen to start at target allocation)\n",
        "df['sharesVTI'] = 10\n",
        "df['sharesQCOM'] = 8"
      ],
      "metadata": {
        "id": "BEDo6NerNSfK"
      },
      "execution_count": 104,
      "outputs": []
    },
    {
      "cell_type": "markdown",
      "source": [
        "##g"
      ],
      "metadata": {
        "id": "TpAYzbtbNWme"
      }
    },
    {
      "cell_type": "code",
      "source": [
        "# Actual allocation\n",
        "df['actualVTI'] = df['priceVTI'] * df['sharesVTI'] / (df['priceVTI'] * df['sharesVTI'] + df['priceQCOM'] * df['sharesQCOM'])\n",
        "\n",
        "# Tracking error\n",
        "df['error'] = df['actualVTI'] - targetVTI"
      ],
      "metadata": {
        "id": "lkHpoOB5LisD"
      },
      "execution_count": 105,
      "outputs": []
    },
    {
      "cell_type": "markdown",
      "source": [
        "##h"
      ],
      "metadata": {
        "id": "OneCU5VYNnMK"
      }
    },
    {
      "cell_type": "code",
      "source": [
        "# Tracking error threshold (10% for lecture, 3% for homework)\n",
        "threshold = 0.1"
      ],
      "metadata": {
        "id": "jqGURTGfNoJB"
      },
      "execution_count": 106,
      "outputs": []
    },
    {
      "cell_type": "code",
      "source": [
        "\n",
        "# Required amount to buy to eliminate tracking error\n",
        "df['buy'] = - df['error'] * (df['priceVTI'] * df['sharesVTI'] + df['priceQCOM'] * df['sharesQCOM']) / df['priceVTI']\n",
        "# Store error without any rebalancing\n",
        "errorNoRebalance = df['error']\n",
        "errorNoRebalance.index = df['date']\n",
        "\n",
        "# Sort by date\n",
        "df = df.sort_values(by = 'date')\n",
        "\n",
        "# List of dates to loop through (drop first date)\n",
        "dates = list(dict.fromkeys(df['date']))\n",
        "dates.remove(min(dates))\n",
        "\n",
        "# Loop through dates, rebalancing as needed\n",
        "for i in dates:\n",
        "    \n",
        "    # Define lagged shares\n",
        "    df['lagSharesVTI'] = df['sharesVTI'].shift(1)\n",
        "    df['lagSharesQCOM'] = df['sharesQCOM'].shift(1)\n",
        "    \n",
        "    # Running allocation based on last period's shares\n",
        "    df['actualVTI'] = df['priceVTI'] * df['lagSharesVTI'] \\\n",
        "        / (df['priceVTI'] * df['lagSharesVTI'] + df['priceQCOM'] * df['lagSharesQCOM'])\n",
        "    \n",
        "    # Running tracking error\n",
        "    df['error'] = df['actualVTI'] - targetVTI\n",
        "    \n",
        "    # Running required amount to buy\n",
        "    df['buy'] = - df['error'] * (df['priceVTI'] * df['lagSharesVTI'] + df['priceQCOM'] * df['lagSharesQCOM']) \\\n",
        "        / df['priceVTI']\n",
        "    \n",
        "    # Check if error exceeds threshold\n",
        "    error = np.mean(df.loc[df.date == i, 'actualVTI']) - targetVTI\n",
        "    if abs(error) > threshold:\n",
        "        \n",
        "        # Replace shares with required amount to buy\n",
        "        df.loc[df.date == i, 'sharesVTI'] =  \\\n",
        "            df.loc[df.date == i, 'lagSharesVTI'] + df.loc[df.date == i, 'buy']\n",
        "        df.loc[df.date == i, 'sharesQCOM'] =  \\\n",
        "            df.loc[df.date == i, 'lagSharesQCOM'] - df.loc[df.date == i, 'buy'] * df['priceVTI'] / df['priceQCOM']\n",
        "       \n",
        "    # Forward-fill shares based on new value\n",
        "    df.loc[df.date >= i, 'sharesVTI'] = np.mean(df.loc[df.date == i, 'sharesVTI'])\n",
        "    df.loc[df.date >= i, 'sharesQCOM'] = np.mean(df.loc[df.date == i, 'sharesQCOM'])\n",
        "    \n",
        "\n",
        "# Plot resulting tracking error over time\n",
        "errorRebalance = df['error']\n",
        "errorRebalance.index = df['date']\n",
        "\n",
        "fig = plt.figure()\n",
        "\n",
        "ax1 = errorRebalance.plot(color='blue', grid=True, label='Rebalancing')\n",
        "ax2 = errorNoRebalance.plot(color='red', grid=True, label='No Rebalancing')\n",
        "\n",
        "ax1.legend(loc=1)\n",
        "ax2.legend(loc=2)\n",
        "\n",
        "ax1.set_ylabel('Tracking Error')\n",
        "ax1.set_xlabel('Date')\n",
        "\n",
        "plt.show()\n",
        "\n",
        "fig.savefig(\"tracking-error-10.png\")"
      ],
      "metadata": {
        "colab": {
          "base_uri": "https://localhost:8080/",
          "height": 269
        },
        "id": "_FAcBdRzJpO9",
        "outputId": "b7d5e5a5-2a53-4561-99c6-f05b52722599"
      },
      "execution_count": 107,
      "outputs": [
        {
          "output_type": "display_data",
          "data": {
            "text/plain": [
              "<Figure size 432x288 with 1 Axes>"
            ],
            "image/png": "[encoded data removed]"
          },
          "metadata": {
            "needs_background": "light"
          }
        }
      ]
    },
    {
      "cell_type": "code",
      "source": [],
      "metadata": {
        "id": "ECbmvjAQJwVi"
      },
      "execution_count": 107,
      "outputs": []
    }
  ],
  "metadata": {
    "kernelspec": {
      "display_name": "Python 3",
      "language": "python",
      "name": "python3"
    },
    "language_info": {
      "codemirror_mode": {
        "name": "ipython",
        "version": 3
      },
      "file_extension": ".py",
      "mimetype": "text/x-python",
      "name": "python",
      "nbconvert_exporter": "python",
      "pygments_lexer": "ipython3",
      "version": "3.7.3"
    },
    "colab": {
      "provenance": [],
      "collapsed_sections": [],
      "include_colab_link": true
    }
  },
  "nbformat": 4,
  "nbformat_minor": 0
}