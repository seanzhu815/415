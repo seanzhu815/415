{
  "nbformat": 4,
  "nbformat_minor": 0,
  "metadata": {
    "colab": {
      "provenance": [],
      "collapsed_sections": [],
      "mount_file_id": "1oGS-olb_TrVA5LdQbuVFlMsGRo8P0PbV",
      "authorship_tag": "ABX9TyNWR7XFprrdK7t6KI7C6OI6",
      "include_colab_link": true
    },
    "kernelspec": {
      "name": "python3",
      "display_name": "Python 3"
    },
    "language_info": {
      "name": "python"
    }
  },
  "cells": [
    {
      "cell_type": "markdown",
      "metadata": {
        "id": "view-in-github",
        "colab_type": "text"
      },
      "source": [
        "<a href=\"https://colab.research.google.com/github/seanzhu815/415/blob/main/415_assignment1.ipynb\" target=\"_parent\"><img src=\"https://colab.research.google.com/assets/colab-badge.svg\" alt=\"Open In Colab\"/></a>"
      ]
    },
    {
      "cell_type": "markdown",
      "source": [
        "# Part1"
      ],
      "metadata": {
        "id": "5sijo9fGG770"
      }
    },
    {
      "cell_type": "code",
      "execution_count": 3,
      "metadata": {
        "id": "HKzFOK9yG1QX"
      },
      "outputs": [],
      "source": [
        "import requests\n",
        "import zipfile\n",
        "import io\n",
        "import pandas as pd\n",
        "import numpy as np\n",
        "import datetime as dt\n",
        "import statsmodels.api as sm\n",
        "import math as math\n",
        "import matplotlib.pyplot as plt\n"
      ]
    },
    {
      "cell_type": "markdown",
      "source": [
        "## a"
      ],
      "metadata": {
        "id": "Ke4Xw9PbG_5A"
      }
    },
    {
      "cell_type": "code",
      "source": [
        "url = \"https://www.fhfa.gov/DataTools/Downloads/Documents/HPI/HPI_AT_BDL_tract.csv\"\n",
        "df = pd.read_csv(url)"
      ],
      "metadata": {
        "id": "WcoAnSnEG6OQ"
      },
      "execution_count": 4,
      "outputs": []
    },
    {
      "cell_type": "code",
      "source": [],
      "metadata": {
        "colab": {
          "base_uri": "https://localhost:8080/",
          "height": 488
        },
        "id": "hEfxHb_rHTl6",
        "outputId": "d33dd06e-b7af-4ba5-f52a-be60964c5039"
      },
      "execution_count": 35,
      "outputs": [
        {
          "output_type": "execute_result",
          "data": {
            "text/plain": [
              "               tract state_abbr  year  annual_change         hpi  hpi1990  \\\n",
              "0         1001020100         AL  1998            NaN  100.000000      NaN   \n",
              "1         1001020100         AL  1999          -5.60   94.400002      NaN   \n",
              "2         1001020100         AL  2000           5.06   99.180000      NaN   \n",
              "3         1001020100         AL  2001           7.08  106.210000      NaN   \n",
              "4         1001020100         AL  2002           7.11  113.760000      NaN   \n",
              "...              ...        ...   ...            ...         ...      ...   \n",
              "1900550  56045951300         WY  2017          -0.61  175.789990      NaN   \n",
              "1900551  56045951300         WY  2018           1.79  178.940000      NaN   \n",
              "1900552  56045951300         WY  2019           7.58  192.500000      NaN   \n",
              "1900553  56045951300         WY  2020          -0.27  191.980000      NaN   \n",
              "1900554  56045951300         WY  2021          15.32  221.380000      NaN   \n",
              "\n",
              "         hpi2000  \n",
              "0         100.82  \n",
              "1          95.18  \n",
              "2         100.00  \n",
              "3         107.08  \n",
              "4         114.70  \n",
              "...          ...  \n",
              "1900550      NaN  \n",
              "1900551      NaN  \n",
              "1900552      NaN  \n",
              "1900553      NaN  \n",
              "1900554      NaN  \n",
              "\n",
              "[1900555 rows x 7 columns]"
            ],
            "text/html": [
              "\n",
              "  <div id=\"df-1c2519ce-aaaf-401c-aba6-b6769ed7aae1\">\n",
              "    <div class=\"colab-df-container\">\n",
              "      <div>\n",
              "<style scoped>\n",
              "    .dataframe tbody tr th:only-of-type {\n",
              "        vertical-align: middle;\n",
              "    }\n",
              "\n",
              "    .dataframe tbody tr th {\n",
              "        vertical-align: top;\n",
              "    }\n",
              "\n",
              "    .dataframe thead th {\n",
              "        text-align: right;\n",
              "    }\n",
              "</style>\n",
              "<table border=\"1\" class=\"dataframe\">\n",
              "  <thead>\n",
              "    <tr style=\"text-align: right;\">\n",
              "      <th></th>\n",
              "      <th>tract</th>\n",
              "      <th>state_abbr</th>\n",
              "      <th>year</th>\n",
              "      <th>annual_change</th>\n",
              "      <th>hpi</th>\n",
              "      <th>hpi1990</th>\n",
              "      <th>hpi2000</th>\n",
              "    </tr>\n",
              "  </thead>\n",
              "  <tbody>\n",
              "    <tr>\n",
              "      <th>0</th>\n",
              "      <td>1001020100</td>\n",
              "      <td>AL</td>\n",
              "      <td>1998</td>\n",
              "      <td>NaN</td>\n",
              "      <td>100.000000</td>\n",
              "      <td>NaN</td>\n",
              "      <td>100.82</td>\n",
              "    </tr>\n",
              "    <tr>\n",
              "      <th>1</th>\n",
              "      <td>1001020100</td>\n",
              "      <td>AL</td>\n",
              "      <td>1999</td>\n",
              "      <td>-5.60</td>\n",
              "      <td>94.400002</td>\n",
              "      <td>NaN</td>\n",
              "      <td>95.18</td>\n",
              "    </tr>\n",
              "    <tr>\n",
              "      <th>2</th>\n",
              "      <td>1001020100</td>\n",
              "      <td>AL</td>\n",
              "      <td>2000</td>\n",
              "      <td>5.06</td>\n",
              "      <td>99.180000</td>\n",
              "      <td>NaN</td>\n",
              "      <td>100.00</td>\n",
              "    </tr>\n",
              "    <tr>\n",
              "      <th>3</th>\n",
              "      <td>1001020100</td>\n",
              "      <td>AL</td>\n",
              "      <td>2001</td>\n",
              "      <td>7.08</td>\n",
              "      <td>106.210000</td>\n",
              "      <td>NaN</td>\n",
              "      <td>107.08</td>\n",
              "    </tr>\n",
              "    <tr>\n",
              "      <th>4</th>\n",
              "      <td>1001020100</td>\n",
              "      <td>AL</td>\n",
              "      <td>2002</td>\n",
              "      <td>7.11</td>\n",
              "      <td>113.760000</td>\n",
              "      <td>NaN</td>\n",
              "      <td>114.70</td>\n",
              "    </tr>\n",
              "    <tr>\n",
              "      <th>...</th>\n",
              "      <td>...</td>\n",
              "      <td>...</td>\n",
              "      <td>...</td>\n",
              "      <td>...</td>\n",
              "      <td>...</td>\n",
              "      <td>...</td>\n",
              "      <td>...</td>\n",
              "    </tr>\n",
              "    <tr>\n",
              "      <th>1900550</th>\n",
              "      <td>56045951300</td>\n",
              "      <td>WY</td>\n",
              "      <td>2017</td>\n",
              "      <td>-0.61</td>\n",
              "      <td>175.789990</td>\n",
              "      <td>NaN</td>\n",
              "      <td>NaN</td>\n",
              "    </tr>\n",
              "    <tr>\n",
              "      <th>1900551</th>\n",
              "      <td>56045951300</td>\n",
              "      <td>WY</td>\n",
              "      <td>2018</td>\n",
              "      <td>1.79</td>\n",
              "      <td>178.940000</td>\n",
              "      <td>NaN</td>\n",
              "      <td>NaN</td>\n",
              "    </tr>\n",
              "    <tr>\n",
              "      <th>1900552</th>\n",
              "      <td>56045951300</td>\n",
              "      <td>WY</td>\n",
              "      <td>2019</td>\n",
              "      <td>7.58</td>\n",
              "      <td>192.500000</td>\n",
              "      <td>NaN</td>\n",
              "      <td>NaN</td>\n",
              "    </tr>\n",
              "    <tr>\n",
              "      <th>1900553</th>\n",
              "      <td>56045951300</td>\n",
              "      <td>WY</td>\n",
              "      <td>2020</td>\n",
              "      <td>-0.27</td>\n",
              "      <td>191.980000</td>\n",
              "      <td>NaN</td>\n",
              "      <td>NaN</td>\n",
              "    </tr>\n",
              "    <tr>\n",
              "      <th>1900554</th>\n",
              "      <td>56045951300</td>\n",
              "      <td>WY</td>\n",
              "      <td>2021</td>\n",
              "      <td>15.32</td>\n",
              "      <td>221.380000</td>\n",
              "      <td>NaN</td>\n",
              "      <td>NaN</td>\n",
              "    </tr>\n",
              "  </tbody>\n",
              "</table>\n",
              "<p>1900555 rows × 7 columns</p>\n",
              "</div>\n",
              "      <button class=\"colab-df-convert\" onclick=\"convertToInteractive('df-1c2519ce-aaaf-401c-aba6-b6769ed7aae1')\"\n",
              "              title=\"Convert this dataframe to an interactive table.\"\n",
              "              style=\"display:none;\">\n",
              "        \n",
              "  <svg xmlns=\"http://www.w3.org/2000/svg\" height=\"24px\"viewBox=\"0 0 24 24\"\n",
              "       width=\"24px\">\n",
              "    <path d=\"M0 0h24v24H0V0z\" fill=\"none\"/>\n",
              "    <path d=\"M18.56 5.44l.94 2.06.94-2.06 2.06-.94-2.06-.94-.94-2.06-.94 2.06-2.06.94zm-11 1L8.5 8.5l.94-2.06 2.06-.94-2.06-.94L8.5 2.5l-.94 2.06-2.06.94zm10 10l.94 2.06.94-2.06 2.06-.94-2.06-.94-.94-2.06-.94 2.06-2.06.94z\"/><path d=\"M17.41 7.96l-1.37-1.37c-.4-.4-.92-.59-1.43-.59-.52 0-1.04.2-1.43.59L10.3 9.45l-7.72 7.72c-.78.78-.78 2.05 0 2.83L4 21.41c.39.39.9.59 1.41.59.51 0 1.02-.2 1.41-.59l7.78-7.78 2.81-2.81c.8-.78.8-2.07 0-2.86zM5.41 20L4 18.59l7.72-7.72 1.47 1.35L5.41 20z\"/>\n",
              "  </svg>\n",
              "      </button>\n",
              "      \n",
              "  <style>\n",
              "    .colab-df-container {\n",
              "      display:flex;\n",
              "      flex-wrap:wrap;\n",
              "      gap: 12px;\n",
              "    }\n",
              "\n",
              "    .colab-df-convert {\n",
              "      background-color: #E8F0FE;\n",
              "      border: none;\n",
              "      border-radius: 50%;\n",
              "      cursor: pointer;\n",
              "      display: none;\n",
              "      fill: #1967D2;\n",
              "      height: 32px;\n",
              "      padding: 0 0 0 0;\n",
              "      width: 32px;\n",
              "    }\n",
              "\n",
              "    .colab-df-convert:hover {\n",
              "      background-color: #E2EBFA;\n",
              "      box-shadow: 0px 1px 2px rgba(60, 64, 67, 0.3), 0px 1px 3px 1px rgba(60, 64, 67, 0.15);\n",
              "      fill: #174EA6;\n",
              "    }\n",
              "\n",
              "    [theme=dark] .colab-df-convert {\n",
              "      background-color: #3B4455;\n",
              "      fill: #D2E3FC;\n",
              "    }\n",
              "\n",
              "    [theme=dark] .colab-df-convert:hover {\n",
              "      background-color: #434B5C;\n",
              "      box-shadow: 0px 1px 3px 1px rgba(0, 0, 0, 0.15);\n",
              "      filter: drop-shadow(0px 1px 2px rgba(0, 0, 0, 0.3));\n",
              "      fill: #FFFFFF;\n",
              "    }\n",
              "  </style>\n",
              "\n",
              "      <script>\n",
              "        const buttonEl =\n",
              "          document.querySelector('#df-1c2519ce-aaaf-401c-aba6-b6769ed7aae1 button.colab-df-convert');\n",
              "        buttonEl.style.display =\n",
              "          google.colab.kernel.accessAllowed ? 'block' : 'none';\n",
              "\n",
              "        async function convertToInteractive(key) {\n",
              "          const element = document.querySelector('#df-1c2519ce-aaaf-401c-aba6-b6769ed7aae1');\n",
              "          const dataTable =\n",
              "            await google.colab.kernel.invokeFunction('convertToInteractive',\n",
              "                                                     [key], {});\n",
              "          if (!dataTable) return;\n",
              "\n",
              "          const docLinkHtml = 'Like what you see? Visit the ' +\n",
              "            '<a target=\"_blank\" href=https://colab.research.google.com/notebooks/data_table.ipynb>data table notebook</a>'\n",
              "            + ' to learn more about interactive tables.';\n",
              "          element.innerHTML = '';\n",
              "          dataTable['output_type'] = 'display_data';\n",
              "          await google.colab.output.renderOutput(dataTable, element);\n",
              "          const docLink = document.createElement('div');\n",
              "          docLink.innerHTML = docLinkHtml;\n",
              "          element.appendChild(docLink);\n",
              "        }\n",
              "      </script>\n",
              "    </div>\n",
              "  </div>\n",
              "  "
            ]
          },
          "metadata": {},
          "execution_count": 35
        }
      ]
    },
    {
      "cell_type": "markdown",
      "source": [
        "## b"
      ],
      "metadata": {
        "id": "wyKttOg6HIzH"
      }
    },
    {
      "cell_type": "code",
      "source": [
        "dfFiltered = df[(df['year'] >= 1990)]\n",
        "dfFiltered = dfFiltered[dfFiltered['annual_change'] != \".\"]\n",
        "dfFiltered['annual_change'] = dfFiltered['annual_change'].astype(float)"
      ],
      "metadata": {
        "colab": {
          "base_uri": "https://localhost:8080/",
          "height": 488
        },
        "id": "SUUBiZnwHJUI",
        "outputId": "c809a756-9238-4ec8-9ad7-3d13fd69b672"
      },
      "execution_count": 36,
      "outputs": [
        {
          "output_type": "execute_result",
          "data": {
            "text/plain": [
              "               tract state_abbr  year  annual_change         hpi  hpi1990  \\\n",
              "0         1001020100         AL  1998            NaN  100.000000      NaN   \n",
              "1         1001020100         AL  1999          -5.60   94.400002      NaN   \n",
              "2         1001020100         AL  2000           5.06   99.180000      NaN   \n",
              "3         1001020100         AL  2001           7.08  106.210000      NaN   \n",
              "4         1001020100         AL  2002           7.11  113.760000      NaN   \n",
              "...              ...        ...   ...            ...         ...      ...   \n",
              "1900550  56045951300         WY  2017          -0.61  175.789990      NaN   \n",
              "1900551  56045951300         WY  2018           1.79  178.940000      NaN   \n",
              "1900552  56045951300         WY  2019           7.58  192.500000      NaN   \n",
              "1900553  56045951300         WY  2020          -0.27  191.980000      NaN   \n",
              "1900554  56045951300         WY  2021          15.32  221.380000      NaN   \n",
              "\n",
              "         hpi2000  \n",
              "0         100.82  \n",
              "1          95.18  \n",
              "2         100.00  \n",
              "3         107.08  \n",
              "4         114.70  \n",
              "...          ...  \n",
              "1900550      NaN  \n",
              "1900551      NaN  \n",
              "1900552      NaN  \n",
              "1900553      NaN  \n",
              "1900554      NaN  \n",
              "\n",
              "[1771869 rows x 7 columns]"
            ],
            "text/html": [
              "\n",
              "  <div id=\"df-00adac5a-4c1c-4869-8642-c73f5277ec3d\">\n",
              "    <div class=\"colab-df-container\">\n",
              "      <div>\n",
              "<style scoped>\n",
              "    .dataframe tbody tr th:only-of-type {\n",
              "        vertical-align: middle;\n",
              "    }\n",
              "\n",
              "    .dataframe tbody tr th {\n",
              "        vertical-align: top;\n",
              "    }\n",
              "\n",
              "    .dataframe thead th {\n",
              "        text-align: right;\n",
              "    }\n",
              "</style>\n",
              "<table border=\"1\" class=\"dataframe\">\n",
              "  <thead>\n",
              "    <tr style=\"text-align: right;\">\n",
              "      <th></th>\n",
              "      <th>tract</th>\n",
              "      <th>state_abbr</th>\n",
              "      <th>year</th>\n",
              "      <th>annual_change</th>\n",
              "      <th>hpi</th>\n",
              "      <th>hpi1990</th>\n",
              "      <th>hpi2000</th>\n",
              "    </tr>\n",
              "  </thead>\n",
              "  <tbody>\n",
              "    <tr>\n",
              "      <th>0</th>\n",
              "      <td>1001020100</td>\n",
              "      <td>AL</td>\n",
              "      <td>1998</td>\n",
              "      <td>NaN</td>\n",
              "      <td>100.000000</td>\n",
              "      <td>NaN</td>\n",
              "      <td>100.82</td>\n",
              "    </tr>\n",
              "    <tr>\n",
              "      <th>1</th>\n",
              "      <td>1001020100</td>\n",
              "      <td>AL</td>\n",
              "      <td>1999</td>\n",
              "      <td>-5.60</td>\n",
              "      <td>94.400002</td>\n",
              "      <td>NaN</td>\n",
              "      <td>95.18</td>\n",
              "    </tr>\n",
              "    <tr>\n",
              "      <th>2</th>\n",
              "      <td>1001020100</td>\n",
              "      <td>AL</td>\n",
              "      <td>2000</td>\n",
              "      <td>5.06</td>\n",
              "      <td>99.180000</td>\n",
              "      <td>NaN</td>\n",
              "      <td>100.00</td>\n",
              "    </tr>\n",
              "    <tr>\n",
              "      <th>3</th>\n",
              "      <td>1001020100</td>\n",
              "      <td>AL</td>\n",
              "      <td>2001</td>\n",
              "      <td>7.08</td>\n",
              "      <td>106.210000</td>\n",
              "      <td>NaN</td>\n",
              "      <td>107.08</td>\n",
              "    </tr>\n",
              "    <tr>\n",
              "      <th>4</th>\n",
              "      <td>1001020100</td>\n",
              "      <td>AL</td>\n",
              "      <td>2002</td>\n",
              "      <td>7.11</td>\n",
              "      <td>113.760000</td>\n",
              "      <td>NaN</td>\n",
              "      <td>114.70</td>\n",
              "    </tr>\n",
              "    <tr>\n",
              "      <th>...</th>\n",
              "      <td>...</td>\n",
              "      <td>...</td>\n",
              "      <td>...</td>\n",
              "      <td>...</td>\n",
              "      <td>...</td>\n",
              "      <td>...</td>\n",
              "      <td>...</td>\n",
              "    </tr>\n",
              "    <tr>\n",
              "      <th>1900550</th>\n",
              "      <td>56045951300</td>\n",
              "      <td>WY</td>\n",
              "      <td>2017</td>\n",
              "      <td>-0.61</td>\n",
              "      <td>175.789990</td>\n",
              "      <td>NaN</td>\n",
              "      <td>NaN</td>\n",
              "    </tr>\n",
              "    <tr>\n",
              "      <th>1900551</th>\n",
              "      <td>56045951300</td>\n",
              "      <td>WY</td>\n",
              "      <td>2018</td>\n",
              "      <td>1.79</td>\n",
              "      <td>178.940000</td>\n",
              "      <td>NaN</td>\n",
              "      <td>NaN</td>\n",
              "    </tr>\n",
              "    <tr>\n",
              "      <th>1900552</th>\n",
              "      <td>56045951300</td>\n",
              "      <td>WY</td>\n",
              "      <td>2019</td>\n",
              "      <td>7.58</td>\n",
              "      <td>192.500000</td>\n",
              "      <td>NaN</td>\n",
              "      <td>NaN</td>\n",
              "    </tr>\n",
              "    <tr>\n",
              "      <th>1900553</th>\n",
              "      <td>56045951300</td>\n",
              "      <td>WY</td>\n",
              "      <td>2020</td>\n",
              "      <td>-0.27</td>\n",
              "      <td>191.980000</td>\n",
              "      <td>NaN</td>\n",
              "      <td>NaN</td>\n",
              "    </tr>\n",
              "    <tr>\n",
              "      <th>1900554</th>\n",
              "      <td>56045951300</td>\n",
              "      <td>WY</td>\n",
              "      <td>2021</td>\n",
              "      <td>15.32</td>\n",
              "      <td>221.380000</td>\n",
              "      <td>NaN</td>\n",
              "      <td>NaN</td>\n",
              "    </tr>\n",
              "  </tbody>\n",
              "</table>\n",
              "<p>1771869 rows × 7 columns</p>\n",
              "</div>\n",
              "      <button class=\"colab-df-convert\" onclick=\"convertToInteractive('df-00adac5a-4c1c-4869-8642-c73f5277ec3d')\"\n",
              "              title=\"Convert this dataframe to an interactive table.\"\n",
              "              style=\"display:none;\">\n",
              "        \n",
              "  <svg xmlns=\"http://www.w3.org/2000/svg\" height=\"24px\"viewBox=\"0 0 24 24\"\n",
              "       width=\"24px\">\n",
              "    <path d=\"M0 0h24v24H0V0z\" fill=\"none\"/>\n",
              "    <path d=\"M18.56 5.44l.94 2.06.94-2.06 2.06-.94-2.06-.94-.94-2.06-.94 2.06-2.06.94zm-11 1L8.5 8.5l.94-2.06 2.06-.94-2.06-.94L8.5 2.5l-.94 2.06-2.06.94zm10 10l.94 2.06.94-2.06 2.06-.94-2.06-.94-.94-2.06-.94 2.06-2.06.94z\"/><path d=\"M17.41 7.96l-1.37-1.37c-.4-.4-.92-.59-1.43-.59-.52 0-1.04.2-1.43.59L10.3 9.45l-7.72 7.72c-.78.78-.78 2.05 0 2.83L4 21.41c.39.39.9.59 1.41.59.51 0 1.02-.2 1.41-.59l7.78-7.78 2.81-2.81c.8-.78.8-2.07 0-2.86zM5.41 20L4 18.59l7.72-7.72 1.47 1.35L5.41 20z\"/>\n",
              "  </svg>\n",
              "      </button>\n",
              "      \n",
              "  <style>\n",
              "    .colab-df-container {\n",
              "      display:flex;\n",
              "      flex-wrap:wrap;\n",
              "      gap: 12px;\n",
              "    }\n",
              "\n",
              "    .colab-df-convert {\n",
              "      background-color: #E8F0FE;\n",
              "      border: none;\n",
              "      border-radius: 50%;\n",
              "      cursor: pointer;\n",
              "      display: none;\n",
              "      fill: #1967D2;\n",
              "      height: 32px;\n",
              "      padding: 0 0 0 0;\n",
              "      width: 32px;\n",
              "    }\n",
              "\n",
              "    .colab-df-convert:hover {\n",
              "      background-color: #E2EBFA;\n",
              "      box-shadow: 0px 1px 2px rgba(60, 64, 67, 0.3), 0px 1px 3px 1px rgba(60, 64, 67, 0.15);\n",
              "      fill: #174EA6;\n",
              "    }\n",
              "\n",
              "    [theme=dark] .colab-df-convert {\n",
              "      background-color: #3B4455;\n",
              "      fill: #D2E3FC;\n",
              "    }\n",
              "\n",
              "    [theme=dark] .colab-df-convert:hover {\n",
              "      background-color: #434B5C;\n",
              "      box-shadow: 0px 1px 3px 1px rgba(0, 0, 0, 0.15);\n",
              "      filter: drop-shadow(0px 1px 2px rgba(0, 0, 0, 0.3));\n",
              "      fill: #FFFFFF;\n",
              "    }\n",
              "  </style>\n",
              "\n",
              "      <script>\n",
              "        const buttonEl =\n",
              "          document.querySelector('#df-00adac5a-4c1c-4869-8642-c73f5277ec3d button.colab-df-convert');\n",
              "        buttonEl.style.display =\n",
              "          google.colab.kernel.accessAllowed ? 'block' : 'none';\n",
              "\n",
              "        async function convertToInteractive(key) {\n",
              "          const element = document.querySelector('#df-00adac5a-4c1c-4869-8642-c73f5277ec3d');\n",
              "          const dataTable =\n",
              "            await google.colab.kernel.invokeFunction('convertToInteractive',\n",
              "                                                     [key], {});\n",
              "          if (!dataTable) return;\n",
              "\n",
              "          const docLinkHtml = 'Like what you see? Visit the ' +\n",
              "            '<a target=\"_blank\" href=https://colab.research.google.com/notebooks/data_table.ipynb>data table notebook</a>'\n",
              "            + ' to learn more about interactive tables.';\n",
              "          element.innerHTML = '';\n",
              "          dataTable['output_type'] = 'display_data';\n",
              "          await google.colab.output.renderOutput(dataTable, element);\n",
              "          const docLink = document.createElement('div');\n",
              "          docLink.innerHTML = docLinkHtml;\n",
              "          element.appendChild(docLink);\n",
              "        }\n",
              "      </script>\n",
              "    </div>\n",
              "  </div>\n",
              "  "
            ]
          },
          "metadata": {},
          "execution_count": 36
        }
      ]
    },
    {
      "cell_type": "markdown",
      "source": [
        "## c"
      ],
      "metadata": {
        "id": "_6Awu36_Iy7U"
      }
    },
    {
      "cell_type": "code",
      "source": [
        "dfCrosswalk = pd.read_csv('drive/MyDrive/tract-metro-crosswalk.csv')\n",
        "dfSD = dfCrosswalk[dfCrosswalk['metro'] == 41740]"
      ],
      "metadata": {
        "id": "H6dQUdtxIxo_"
      },
      "execution_count": 16,
      "outputs": []
    },
    {
      "cell_type": "markdown",
      "source": [
        "## d"
      ],
      "metadata": {
        "id": "AX3q5l0lKJu5"
      }
    },
    {
      "cell_type": "code",
      "source": [
        "dfDistance = pd.read_csv('drive/MyDrive/tract-centrality.csv')\n",
        "dfDistance = dfDistance.dropna(subset=['distance_to_city_center'])"
      ],
      "metadata": {
        "id": "-czXxkJOKKoH"
      },
      "execution_count": 17,
      "outputs": []
    },
    {
      "cell_type": "markdown",
      "source": [
        "## e"
      ],
      "metadata": {
        "id": "_88n-ENsK6Fk"
      }
    },
    {
      "cell_type": "code",
      "source": [
        "dfSD = dfDistance.merge(dfSD, how = 'inner', left_on = 'tract', right_on = 'tract')\n",
        "dfSD"
      ],
      "metadata": {
        "colab": {
          "base_uri": "https://localhost:8080/",
          "height": 424
        },
        "id": "LLEdJyAXKQzw",
        "outputId": "1afc3e7d-4117-4a6e-aee6-cc9313ef7d57"
      },
      "execution_count": 18,
      "outputs": [
        {
          "output_type": "execute_result",
          "data": {
            "text/plain": [
              "          tract  distance_to_city_center  metro\n",
              "0    6059032023                32.046215  41740\n",
              "1    6059042103                39.797086  41740\n",
              "2    6059042106                38.304827  41740\n",
              "3    6059042107                38.483711  41740\n",
              "4    6059042108                38.999774  41740\n",
              "..          ...                      ...    ...\n",
              "575  6073021400                 3.586714  41740\n",
              "576  6073021500                16.344071  41740\n",
              "577  6073021800                 2.433203  41740\n",
              "578  6073022000                 4.982559  41740\n",
              "579  6073022100                29.233423  41740\n",
              "\n",
              "[580 rows x 3 columns]"
            ],
            "text/html": [
              "\n",
              "  <div id=\"df-02fc9315-2d55-4423-aa9f-d68c181ebd23\">\n",
              "    <div class=\"colab-df-container\">\n",
              "      <div>\n",
              "<style scoped>\n",
              "    .dataframe tbody tr th:only-of-type {\n",
              "        vertical-align: middle;\n",
              "    }\n",
              "\n",
              "    .dataframe tbody tr th {\n",
              "        vertical-align: top;\n",
              "    }\n",
              "\n",
              "    .dataframe thead th {\n",
              "        text-align: right;\n",
              "    }\n",
              "</style>\n",
              "<table border=\"1\" class=\"dataframe\">\n",
              "  <thead>\n",
              "    <tr style=\"text-align: right;\">\n",
              "      <th></th>\n",
              "      <th>tract</th>\n",
              "      <th>distance_to_city_center</th>\n",
              "      <th>metro</th>\n",
              "    </tr>\n",
              "  </thead>\n",
              "  <tbody>\n",
              "    <tr>\n",
              "      <th>0</th>\n",
              "      <td>6059032023</td>\n",
              "      <td>32.046215</td>\n",
              "      <td>41740</td>\n",
              "    </tr>\n",
              "    <tr>\n",
              "      <th>1</th>\n",
              "      <td>6059042103</td>\n",
              "      <td>39.797086</td>\n",
              "      <td>41740</td>\n",
              "    </tr>\n",
              "    <tr>\n",
              "      <th>2</th>\n",
              "      <td>6059042106</td>\n",
              "      <td>38.304827</td>\n",
              "      <td>41740</td>\n",
              "    </tr>\n",
              "    <tr>\n",
              "      <th>3</th>\n",
              "      <td>6059042107</td>\n",
              "      <td>38.483711</td>\n",
              "      <td>41740</td>\n",
              "    </tr>\n",
              "    <tr>\n",
              "      <th>4</th>\n",
              "      <td>6059042108</td>\n",
              "      <td>38.999774</td>\n",
              "      <td>41740</td>\n",
              "    </tr>\n",
              "    <tr>\n",
              "      <th>...</th>\n",
              "      <td>...</td>\n",
              "      <td>...</td>\n",
              "      <td>...</td>\n",
              "    </tr>\n",
              "    <tr>\n",
              "      <th>575</th>\n",
              "      <td>6073021400</td>\n",
              "      <td>3.586714</td>\n",
              "      <td>41740</td>\n",
              "    </tr>\n",
              "    <tr>\n",
              "      <th>576</th>\n",
              "      <td>6073021500</td>\n",
              "      <td>16.344071</td>\n",
              "      <td>41740</td>\n",
              "    </tr>\n",
              "    <tr>\n",
              "      <th>577</th>\n",
              "      <td>6073021800</td>\n",
              "      <td>2.433203</td>\n",
              "      <td>41740</td>\n",
              "    </tr>\n",
              "    <tr>\n",
              "      <th>578</th>\n",
              "      <td>6073022000</td>\n",
              "      <td>4.982559</td>\n",
              "      <td>41740</td>\n",
              "    </tr>\n",
              "    <tr>\n",
              "      <th>579</th>\n",
              "      <td>6073022100</td>\n",
              "      <td>29.233423</td>\n",
              "      <td>41740</td>\n",
              "    </tr>\n",
              "  </tbody>\n",
              "</table>\n",
              "<p>580 rows × 3 columns</p>\n",
              "</div>\n",
              "      <button class=\"colab-df-convert\" onclick=\"convertToInteractive('df-02fc9315-2d55-4423-aa9f-d68c181ebd23')\"\n",
              "              title=\"Convert this dataframe to an interactive table.\"\n",
              "              style=\"display:none;\">\n",
              "        \n",
              "  <svg xmlns=\"http://www.w3.org/2000/svg\" height=\"24px\"viewBox=\"0 0 24 24\"\n",
              "       width=\"24px\">\n",
              "    <path d=\"M0 0h24v24H0V0z\" fill=\"none\"/>\n",
              "    <path d=\"M18.56 5.44l.94 2.06.94-2.06 2.06-.94-2.06-.94-.94-2.06-.94 2.06-2.06.94zm-11 1L8.5 8.5l.94-2.06 2.06-.94-2.06-.94L8.5 2.5l-.94 2.06-2.06.94zm10 10l.94 2.06.94-2.06 2.06-.94-2.06-.94-.94-2.06-.94 2.06-2.06.94z\"/><path d=\"M17.41 7.96l-1.37-1.37c-.4-.4-.92-.59-1.43-.59-.52 0-1.04.2-1.43.59L10.3 9.45l-7.72 7.72c-.78.78-.78 2.05 0 2.83L4 21.41c.39.39.9.59 1.41.59.51 0 1.02-.2 1.41-.59l7.78-7.78 2.81-2.81c.8-.78.8-2.07 0-2.86zM5.41 20L4 18.59l7.72-7.72 1.47 1.35L5.41 20z\"/>\n",
              "  </svg>\n",
              "      </button>\n",
              "      \n",
              "  <style>\n",
              "    .colab-df-container {\n",
              "      display:flex;\n",
              "      flex-wrap:wrap;\n",
              "      gap: 12px;\n",
              "    }\n",
              "\n",
              "    .colab-df-convert {\n",
              "      background-color: #E8F0FE;\n",
              "      border: none;\n",
              "      border-radius: 50%;\n",
              "      cursor: pointer;\n",
              "      display: none;\n",
              "      fill: #1967D2;\n",
              "      height: 32px;\n",
              "      padding: 0 0 0 0;\n",
              "      width: 32px;\n",
              "    }\n",
              "\n",
              "    .colab-df-convert:hover {\n",
              "      background-color: #E2EBFA;\n",
              "      box-shadow: 0px 1px 2px rgba(60, 64, 67, 0.3), 0px 1px 3px 1px rgba(60, 64, 67, 0.15);\n",
              "      fill: #174EA6;\n",
              "    }\n",
              "\n",
              "    [theme=dark] .colab-df-convert {\n",
              "      background-color: #3B4455;\n",
              "      fill: #D2E3FC;\n",
              "    }\n",
              "\n",
              "    [theme=dark] .colab-df-convert:hover {\n",
              "      background-color: #434B5C;\n",
              "      box-shadow: 0px 1px 3px 1px rgba(0, 0, 0, 0.15);\n",
              "      filter: drop-shadow(0px 1px 2px rgba(0, 0, 0, 0.3));\n",
              "      fill: #FFFFFF;\n",
              "    }\n",
              "  </style>\n",
              "\n",
              "      <script>\n",
              "        const buttonEl =\n",
              "          document.querySelector('#df-02fc9315-2d55-4423-aa9f-d68c181ebd23 button.colab-df-convert');\n",
              "        buttonEl.style.display =\n",
              "          google.colab.kernel.accessAllowed ? 'block' : 'none';\n",
              "\n",
              "        async function convertToInteractive(key) {\n",
              "          const element = document.querySelector('#df-02fc9315-2d55-4423-aa9f-d68c181ebd23');\n",
              "          const dataTable =\n",
              "            await google.colab.kernel.invokeFunction('convertToInteractive',\n",
              "                                                     [key], {});\n",
              "          if (!dataTable) return;\n",
              "\n",
              "          const docLinkHtml = 'Like what you see? Visit the ' +\n",
              "            '<a target=\"_blank\" href=https://colab.research.google.com/notebooks/data_table.ipynb>data table notebook</a>'\n",
              "            + ' to learn more about interactive tables.';\n",
              "          element.innerHTML = '';\n",
              "          dataTable['output_type'] = 'display_data';\n",
              "          await google.colab.output.renderOutput(dataTable, element);\n",
              "          const docLink = document.createElement('div');\n",
              "          docLink.innerHTML = docLinkHtml;\n",
              "          element.appendChild(docLink);\n",
              "        }\n",
              "      </script>\n",
              "    </div>\n",
              "  </div>\n",
              "  "
            ]
          },
          "metadata": {},
          "execution_count": 18
        }
      ]
    },
    {
      "cell_type": "markdown",
      "source": [
        "## f"
      ],
      "metadata": {
        "id": "N3yJNAznbRdw"
      }
    },
    {
      "cell_type": "code",
      "source": [
        "dfSD['quintile'] = pd.qcut(dfSD['distance_to_city_center'], 5, labels = False) + 1\n",
        "dfSD['quintile'] \n"
      ],
      "metadata": {
        "colab": {
          "base_uri": "https://localhost:8080/"
        },
        "id": "I463kIjwbSv_",
        "outputId": "b24ca061-453f-4741-9224-e2bdbb3a8a95"
      },
      "execution_count": 19,
      "outputs": [
        {
          "output_type": "execute_result",
          "data": {
            "text/plain": [
              "0      5\n",
              "1      5\n",
              "2      5\n",
              "3      5\n",
              "4      5\n",
              "      ..\n",
              "575    1\n",
              "576    3\n",
              "577    1\n",
              "578    1\n",
              "579    4\n",
              "Name: quintile, Length: 580, dtype: int64"
            ]
          },
          "metadata": {},
          "execution_count": 19
        }
      ]
    },
    {
      "cell_type": "code",
      "source": [
        "dfSD = dfFiltered.merge(dfSD, how = 'inner', left_on = 'tract', right_on = 'tract')\n"
      ],
      "metadata": {
        "id": "kEiWxLpCbwoq"
      },
      "execution_count": 20,
      "outputs": []
    },
    {
      "cell_type": "markdown",
      "source": [
        "## g"
      ],
      "metadata": {
        "id": "dSsesDK4cs1R"
      }
    },
    {
      "cell_type": "code",
      "source": [
        "gradientSD = dfSD.groupby('quintile')['annual_change'].mean()\n",
        "stdSD=dfSD.groupby('quintile')['annual_change'].std()\n"
      ],
      "metadata": {
        "id": "RyS_npz9cN18"
      },
      "execution_count": 26,
      "outputs": []
    },
    {
      "cell_type": "code",
      "source": [
        "plot = gradientSD.plot.bar()\n",
        "plot.set(xlabel = \"Quintile of Centrality to City Center\", ylabel = \"Average Return, 1990-2021\", \n",
        "        title = \"San Diego, CA\")\n",
        "plot.get_figure().savefig(\"distance-gradient-sd.png\")\n",
        "\n",
        "plot.cla() "
      ],
      "metadata": {
        "colab": {
          "base_uri": "https://localhost:8080/"
        },
        "id": "6kH5fn1SkxzT",
        "outputId": "ca202127-af3c-45b7-f9c3-8527c985ff76"
      },
      "execution_count": 31,
      "outputs": [
        {
          "output_type": "execute_result",
          "data": {
            "text/plain": [
              "quintile\n",
              "1    5.767564\n",
              "2    5.068857\n",
              "3    4.849857\n",
              "4    4.545240\n",
              "5    4.626703\n",
              "Name: annual_change, dtype: float64"
            ]
          },
          "metadata": {},
          "execution_count": 31
        }
      ]
    },
    {
      "cell_type": "code",
      "source": [
        "stdSD"
      ],
      "metadata": {
        "colab": {
          "base_uri": "https://localhost:8080/"
        },
        "id": "PyFRVy0ikyxh",
        "outputId": "dd284a6a-f811-41b8-9fc8-7e151f49eedf"
      },
      "execution_count": 30,
      "outputs": [
        {
          "output_type": "execute_result",
          "data": {
            "text/plain": [
              "quintile\n",
              "1    11.539347\n",
              "2    10.099084\n",
              "3     9.822440\n",
              "4     9.421892\n",
              "5    10.513770\n",
              "Name: annual_change, dtype: float64"
            ]
          },
          "metadata": {},
          "execution_count": 30
        }
      ]
    },
    {
      "cell_type": "code",
      "source": [
        "plot = stdSD.plot.bar()\n",
        "plot.set(xlabel = \"Quintile of Centrality to City Center\", ylabel = \"Standard Deviation of Return, 1990-2021\", \n",
        "        title = \"San Diego, CA\")\n",
        "plot.get_figure().savefig(\"distance-std-sd.png\")\n",
        "\n",
        "plot.cla() "
      ],
      "metadata": {
        "colab": {
          "base_uri": "https://localhost:8080/",
          "height": 269
        },
        "id": "kwnY_wV0tvFL",
        "outputId": "6809f5be-4353-4433-b7cc-c243792bd1d6"
      },
      "execution_count": 37,
      "outputs": [
        {
          "output_type": "display_data",
          "data": {
            "text/plain": [
              "<Figure size 432x288 with 1 Axes>"
            ],
            "image/png": "[encoded data removed]"
          },
          "metadata": {
            "needs_background": "light"
          }
        }
      ]
    },
    {
      "cell_type": "markdown",
      "source": [
        "## h"
      ],
      "metadata": {
        "id": "fUnJd3uFvDqB"
      }
    },
    {
      "cell_type": "code",
      "source": [
        "Sharpe_r=gradientSD/stdSD\n",
        "Sharpe_r"
      ],
      "metadata": {
        "colab": {
          "base_uri": "https://localhost:8080/"
        },
        "id": "9dM38Cvgu1ew",
        "outputId": "06fb4426-2462-4980-a040-807ef6e5bd5e"
      },
      "execution_count": 39,
      "outputs": [
        {
          "output_type": "execute_result",
          "data": {
            "text/plain": [
              "quintile\n",
              "1    0.499817\n",
              "2    0.501913\n",
              "3    0.493753\n",
              "4    0.482413\n",
              "5    0.440061\n",
              "Name: annual_change, dtype: float64"
            ]
          },
          "metadata": {},
          "execution_count": 39
        }
      ]
    },
    {
      "cell_type": "code",
      "source": [
        "plot = Sharpe_r.plot.bar()\n",
        "plot.set(xlabel = \"Quintile of Centrality to City Center\", ylabel = \"Sharpe Ratio, 1990-2021\", \n",
        "        title = \"San Diego, CA\")\n",
        "plot.get_figure().savefig(\"distance-Sharpe_r-sd.png\")\n",
        "\n",
        "plot.cla() "
      ],
      "metadata": {
        "colab": {
          "base_uri": "https://localhost:8080/",
          "height": 269
        },
        "id": "Qo60gw-zzhZP",
        "outputId": "1aa9b009-44da-4ee7-ed28-46343880be60"
      },
      "execution_count": 40,
      "outputs": [
        {
          "output_type": "display_data",
          "data": {
            "text/plain": [
              "<Figure size 432x288 with 1 Axes>"
            ],
            "image/png": "[encoded data removed]"
          },
          "metadata": {
            "needs_background": "light"
          }
        }
      ]
    }
  ]
}