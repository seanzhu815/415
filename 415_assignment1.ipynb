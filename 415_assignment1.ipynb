{
  "nbformat": 4,
  "nbformat_minor": 0,
  "metadata": {
    "colab": {
      "provenance": [],
      "collapsed_sections": [],
      "mount_file_id": "https://github.com/seanzhu815/415/blob/main/415_assignment1.ipynb",
      "authorship_tag": "ABX9TyM/Dcxs8RJQYZLNS5JEDsE6",
      "include_colab_link": true
    },
    "kernelspec": {
      "name": "python3",
      "display_name": "Python 3"
    },
    "language_info": {
      "name": "python"
    }
  },
  "cells": [
    {
      "cell_type": "markdown",
      "metadata": {
        "id": "view-in-github",
        "colab_type": "text"
      },
      "source": [
        "<a href=\"https://colab.research.google.com/github/seanzhu815/415/blob/main/415_assignment1.ipynb\" target=\"_parent\"><img src=\"https://colab.research.google.com/assets/colab-badge.svg\" alt=\"Open In Colab\"/></a>"
      ]
    },
    {
      "cell_type": "markdown",
      "source": [
        "# Part1"
      ],
      "metadata": {
        "id": "5sijo9fGG770"
      }
    },
    {
      "cell_type": "code",
      "execution_count": 74,
      "metadata": {
        "id": "HKzFOK9yG1QX"
      },
      "outputs": [],
      "source": [
        "import requests\n",
        "import zipfile\n",
        "import io\n",
        "import pandas as pd\n",
        "import numpy as np\n",
        "import datetime as dt\n",
        "import statsmodels.api as sm\n",
        "import math as math\n",
        "import matplotlib.pyplot as plt\n"
      ]
    },
    {
      "cell_type": "markdown",
      "source": [
        "## a"
      ],
      "metadata": {
        "id": "Ke4Xw9PbG_5A"
      }
    },
    {
      "cell_type": "code",
      "source": [
        "url = \"https://www.fhfa.gov/DataTools/Downloads/Documents/HPI/HPI_AT_BDL_tract.csv\"\n",
        "df = pd.read_csv(url)"
      ],
      "metadata": {
        "id": "WcoAnSnEG6OQ"
      },
      "execution_count": 75,
      "outputs": []
    },
    {
      "cell_type": "markdown",
      "source": [
        "## b"
      ],
      "metadata": {
        "id": "wyKttOg6HIzH"
      }
    },
    {
      "cell_type": "code",
      "source": [
        "dfFiltered = df[(df['year'] >= 1990)]\n",
        "dfFiltered = dfFiltered[dfFiltered['annual_change'] != \".\"]\n",
        "dfFiltered['annual_change'] = dfFiltered['annual_change'].astype(float)"
      ],
      "metadata": {
        "id": "SUUBiZnwHJUI"
      },
      "execution_count": 76,
      "outputs": []
    },
    {
      "cell_type": "markdown",
      "source": [
        "## c"
      ],
      "metadata": {
        "id": "_6Awu36_Iy7U"
      }
    },
    {
      "cell_type": "code",
      "source": [
        "dfCrosswalk = pd.read_csv('drive/MyDrive/tract-metro-crosswalk.csv')\n",
        "dfSD = dfCrosswalk[dfCrosswalk['metro'] == 41740]"
      ],
      "metadata": {
        "id": "H6dQUdtxIxo_"
      },
      "execution_count": 77,
      "outputs": []
    },
    {
      "cell_type": "markdown",
      "source": [
        "## d"
      ],
      "metadata": {
        "id": "AX3q5l0lKJu5"
      }
    },
    {
      "cell_type": "code",
      "source": [
        "dfDistance = pd.read_csv('drive/MyDrive/tract-centrality.csv')\n",
        "dfDistance = dfDistance.dropna(subset=['distance_to_city_center'])"
      ],
      "metadata": {
        "id": "-czXxkJOKKoH"
      },
      "execution_count": 78,
      "outputs": []
    },
    {
      "cell_type": "markdown",
      "source": [
        "## e"
      ],
      "metadata": {
        "id": "_88n-ENsK6Fk"
      }
    },
    {
      "cell_type": "code",
      "source": [
        "dfSD = dfDistance.merge(dfSD, how = 'inner', left_on = 'tract', right_on = 'tract')\n",
        "dfSD"
      ],
      "metadata": {
        "colab": {
          "base_uri": "https://localhost:8080/",
          "height": 424
        },
        "id": "LLEdJyAXKQzw",
        "outputId": "fc8e51c1-dfcb-483d-add2-80b0bb5f1fed"
      },
      "execution_count": 79,
      "outputs": [
        {
          "output_type": "execute_result",
          "data": {
            "text/plain": [
              "          tract  distance_to_city_center  metro\n",
              "0    6059032023                32.046215  41740\n",
              "1    6059042103                39.797086  41740\n",
              "2    6059042106                38.304827  41740\n",
              "3    6059042107                38.483711  41740\n",
              "4    6059042108                38.999774  41740\n",
              "..          ...                      ...    ...\n",
              "575  6073021400                 3.586714  41740\n",
              "576  6073021500                16.344071  41740\n",
              "577  6073021800                 2.433203  41740\n",
              "578  6073022000                 4.982559  41740\n",
              "579  6073022100                29.233423  41740\n",
              "\n",
              "[580 rows x 3 columns]"
            ],
            "text/html": [
              "\n",
              "  <div id=\"df-80682344-257a-4277-9ce1-57ec6639db8f\">\n",
              "    <div class=\"colab-df-container\">\n",
              "      <div>\n",
              "<style scoped>\n",
              "    .dataframe tbody tr th:only-of-type {\n",
              "        vertical-align: middle;\n",
              "    }\n",
              "\n",
              "    .dataframe tbody tr th {\n",
              "        vertical-align: top;\n",
              "    }\n",
              "\n",
              "    .dataframe thead th {\n",
              "        text-align: right;\n",
              "    }\n",
              "</style>\n",
              "<table border=\"1\" class=\"dataframe\">\n",
              "  <thead>\n",
              "    <tr style=\"text-align: right;\">\n",
              "      <th></th>\n",
              "      <th>tract</th>\n",
              "      <th>distance_to_city_center</th>\n",
              "      <th>metro</th>\n",
              "    </tr>\n",
              "  </thead>\n",
              "  <tbody>\n",
              "    <tr>\n",
              "      <th>0</th>\n",
              "      <td>6059032023</td>\n",
              "      <td>32.046215</td>\n",
              "      <td>41740</td>\n",
              "    </tr>\n",
              "    <tr>\n",
              "      <th>1</th>\n",
              "      <td>6059042103</td>\n",
              "      <td>39.797086</td>\n",
              "      <td>41740</td>\n",
              "    </tr>\n",
              "    <tr>\n",
              "      <th>2</th>\n",
              "      <td>6059042106</td>\n",
              "      <td>38.304827</td>\n",
              "      <td>41740</td>\n",
              "    </tr>\n",
              "    <tr>\n",
              "      <th>3</th>\n",
              "      <td>6059042107</td>\n",
              "      <td>38.483711</td>\n",
              "      <td>41740</td>\n",
              "    </tr>\n",
              "    <tr>\n",
              "      <th>4</th>\n",
              "      <td>6059042108</td>\n",
              "      <td>38.999774</td>\n",
              "      <td>41740</td>\n",
              "    </tr>\n",
              "    <tr>\n",
              "      <th>...</th>\n",
              "      <td>...</td>\n",
              "      <td>...</td>\n",
              "      <td>...</td>\n",
              "    </tr>\n",
              "    <tr>\n",
              "      <th>575</th>\n",
              "      <td>6073021400</td>\n",
              "      <td>3.586714</td>\n",
              "      <td>41740</td>\n",
              "    </tr>\n",
              "    <tr>\n",
              "      <th>576</th>\n",
              "      <td>6073021500</td>\n",
              "      <td>16.344071</td>\n",
              "      <td>41740</td>\n",
              "    </tr>\n",
              "    <tr>\n",
              "      <th>577</th>\n",
              "      <td>6073021800</td>\n",
              "      <td>2.433203</td>\n",
              "      <td>41740</td>\n",
              "    </tr>\n",
              "    <tr>\n",
              "      <th>578</th>\n",
              "      <td>6073022000</td>\n",
              "      <td>4.982559</td>\n",
              "      <td>41740</td>\n",
              "    </tr>\n",
              "    <tr>\n",
              "      <th>579</th>\n",
              "      <td>6073022100</td>\n",
              "      <td>29.233423</td>\n",
              "      <td>41740</td>\n",
              "    </tr>\n",
              "  </tbody>\n",
              "</table>\n",
              "<p>580 rows × 3 columns</p>\n",
              "</div>\n",
              "      <button class=\"colab-df-convert\" onclick=\"convertToInteractive('df-80682344-257a-4277-9ce1-57ec6639db8f')\"\n",
              "              title=\"Convert this dataframe to an interactive table.\"\n",
              "              style=\"display:none;\">\n",
              "        \n",
              "  <svg xmlns=\"http://www.w3.org/2000/svg\" height=\"24px\"viewBox=\"0 0 24 24\"\n",
              "       width=\"24px\">\n",
              "    <path d=\"M0 0h24v24H0V0z\" fill=\"none\"/>\n",
              "    <path d=\"M18.56 5.44l.94 2.06.94-2.06 2.06-.94-2.06-.94-.94-2.06-.94 2.06-2.06.94zm-11 1L8.5 8.5l.94-2.06 2.06-.94-2.06-.94L8.5 2.5l-.94 2.06-2.06.94zm10 10l.94 2.06.94-2.06 2.06-.94-2.06-.94-.94-2.06-.94 2.06-2.06.94z\"/><path d=\"M17.41 7.96l-1.37-1.37c-.4-.4-.92-.59-1.43-.59-.52 0-1.04.2-1.43.59L10.3 9.45l-7.72 7.72c-.78.78-.78 2.05 0 2.83L4 21.41c.39.39.9.59 1.41.59.51 0 1.02-.2 1.41-.59l7.78-7.78 2.81-2.81c.8-.78.8-2.07 0-2.86zM5.41 20L4 18.59l7.72-7.72 1.47 1.35L5.41 20z\"/>\n",
              "  </svg>\n",
              "      </button>\n",
              "      \n",
              "  <style>\n",
              "    .colab-df-container {\n",
              "      display:flex;\n",
              "      flex-wrap:wrap;\n",
              "      gap: 12px;\n",
              "    }\n",
              "\n",
              "    .colab-df-convert {\n",
              "      background-color: #E8F0FE;\n",
              "      border: none;\n",
              "      border-radius: 50%;\n",
              "      cursor: pointer;\n",
              "      display: none;\n",
              "      fill: #1967D2;\n",
              "      height: 32px;\n",
              "      padding: 0 0 0 0;\n",
              "      width: 32px;\n",
              "    }\n",
              "\n",
              "    .colab-df-convert:hover {\n",
              "      background-color: #E2EBFA;\n",
              "      box-shadow: 0px 1px 2px rgba(60, 64, 67, 0.3), 0px 1px 3px 1px rgba(60, 64, 67, 0.15);\n",
              "      fill: #174EA6;\n",
              "    }\n",
              "\n",
              "    [theme=dark] .colab-df-convert {\n",
              "      background-color: #3B4455;\n",
              "      fill: #D2E3FC;\n",
              "    }\n",
              "\n",
              "    [theme=dark] .colab-df-convert:hover {\n",
              "      background-color: #434B5C;\n",
              "      box-shadow: 0px 1px 3px 1px rgba(0, 0, 0, 0.15);\n",
              "      filter: drop-shadow(0px 1px 2px rgba(0, 0, 0, 0.3));\n",
              "      fill: #FFFFFF;\n",
              "    }\n",
              "  </style>\n",
              "\n",
              "      <script>\n",
              "        const buttonEl =\n",
              "          document.querySelector('#df-80682344-257a-4277-9ce1-57ec6639db8f button.colab-df-convert');\n",
              "        buttonEl.style.display =\n",
              "          google.colab.kernel.accessAllowed ? 'block' : 'none';\n",
              "\n",
              "        async function convertToInteractive(key) {\n",
              "          const element = document.querySelector('#df-80682344-257a-4277-9ce1-57ec6639db8f');\n",
              "          const dataTable =\n",
              "            await google.colab.kernel.invokeFunction('convertToInteractive',\n",
              "                                                     [key], {});\n",
              "          if (!dataTable) return;\n",
              "\n",
              "          const docLinkHtml = 'Like what you see? Visit the ' +\n",
              "            '<a target=\"_blank\" href=https://colab.research.google.com/notebooks/data_table.ipynb>data table notebook</a>'\n",
              "            + ' to learn more about interactive tables.';\n",
              "          element.innerHTML = '';\n",
              "          dataTable['output_type'] = 'display_data';\n",
              "          await google.colab.output.renderOutput(dataTable, element);\n",
              "          const docLink = document.createElement('div');\n",
              "          docLink.innerHTML = docLinkHtml;\n",
              "          element.appendChild(docLink);\n",
              "        }\n",
              "      </script>\n",
              "    </div>\n",
              "  </div>\n",
              "  "
            ]
          },
          "metadata": {},
          "execution_count": 79
        }
      ]
    },
    {
      "cell_type": "markdown",
      "source": [
        "## f"
      ],
      "metadata": {
        "id": "N3yJNAznbRdw"
      }
    },
    {
      "cell_type": "code",
      "source": [
        "dfSD['quintile'] = pd.qcut(dfSD['distance_to_city_center'], 5, labels = False) + 1\n",
        "dfSD['quintile'] "
      ],
      "metadata": {
        "colab": {
          "base_uri": "https://localhost:8080/",
          "height": 0
        },
        "id": "I463kIjwbSv_",
        "outputId": "d60bce3c-aa2d-4e6f-d899-3ede73f9c216"
      },
      "execution_count": 80,
      "outputs": [
        {
          "output_type": "execute_result",
          "data": {
            "text/plain": [
              "0      5\n",
              "1      5\n",
              "2      5\n",
              "3      5\n",
              "4      5\n",
              "      ..\n",
              "575    1\n",
              "576    3\n",
              "577    1\n",
              "578    1\n",
              "579    4\n",
              "Name: quintile, Length: 580, dtype: int64"
            ]
          },
          "metadata": {},
          "execution_count": 80
        }
      ]
    },
    {
      "cell_type": "code",
      "source": [
        "dfSD = dfFiltered.merge(dfSD, how = 'inner', left_on = 'tract', right_on = 'tract')"
      ],
      "metadata": {
        "id": "kEiWxLpCbwoq"
      },
      "execution_count": 81,
      "outputs": []
    },
    {
      "cell_type": "markdown",
      "source": [
        "## g"
      ],
      "metadata": {
        "id": "dSsesDK4cs1R"
      }
    },
    {
      "cell_type": "code",
      "source": [
        "gradientSD = dfSD.groupby('quintile')['annual_change'].mean()\n",
        "stdSD=dfSD.groupby('quintile')['annual_change'].std()"
      ],
      "metadata": {
        "id": "RyS_npz9cN18"
      },
      "execution_count": 82,
      "outputs": []
    },
    {
      "cell_type": "code",
      "source": [
        "plot = gradientSD.plot.bar()\n",
        "plot.set(xlabel = \"Quintile of Centrality to City Center\", ylabel = \"Average Return, 1990-2021\", \n",
        "        title = \"San Diego, CA\")\n",
        "plot.get_figure().savefig(\"distance-gradient-sd.png\")\n",
        "\n",
        "plot.cla() "
      ],
      "metadata": {
        "id": "6kH5fn1SkxzT"
      },
      "execution_count": null,
      "outputs": []
    },
    {
      "cell_type": "code",
      "source": [
        "stdSD"
      ],
      "metadata": {
        "colab": {
          "base_uri": "https://localhost:8080/",
          "height": 0
        },
        "id": "PyFRVy0ikyxh",
        "outputId": "14eef8d4-45b7-413a-b736-2980e9e5fc40"
      },
      "execution_count": 84,
      "outputs": [
        {
          "output_type": "execute_result",
          "data": {
            "text/plain": [
              "quintile\n",
              "1    11.539347\n",
              "2    10.099084\n",
              "3     9.822440\n",
              "4     9.421892\n",
              "5    10.513770\n",
              "Name: annual_change, dtype: float64"
            ]
          },
          "metadata": {},
          "execution_count": 84
        }
      ]
    },
    {
      "cell_type": "code",
      "source": [
        "plot = stdSD.plot.bar()\n",
        "plot.set(xlabel = \"Quintile of Centrality to City Center\", ylabel = \"Standard Deviation of Return, 1990-2021\", \n",
        "        title = \"San Diego, CA\")\n",
        "plot.get_figure().savefig(\"distance-std-sd.png\")\n",
        "plot.cla() "
      ],
      "metadata": {
        "id": "kwnY_wV0tvFL"
      },
      "execution_count": null,
      "outputs": []
    },
    {
      "cell_type": "markdown",
      "source": [
        "## h"
      ],
      "metadata": {
        "id": "fUnJd3uFvDqB"
      }
    },
    {
      "cell_type": "code",
      "source": [
        "Sharpe_r=gradientSD/stdSD\n",
        "Sharpe_r"
      ],
      "metadata": {
        "colab": {
          "base_uri": "https://localhost:8080/"
        },
        "id": "9dM38Cvgu1ew",
        "outputId": "06fb4426-2462-4980-a040-807ef6e5bd5e"
      },
      "execution_count": null,
      "outputs": [
        {
          "output_type": "execute_result",
          "data": {
            "text/plain": [
              "quintile\n",
              "1    0.499817\n",
              "2    0.501913\n",
              "3    0.493753\n",
              "4    0.482413\n",
              "5    0.440061\n",
              "Name: annual_change, dtype: float64"
            ]
          },
          "metadata": {},
          "execution_count": 39
        }
      ]
    },
    {
      "cell_type": "code",
      "source": [
        "plot = Sharpe_r.plot.bar()\n",
        "plot.set(xlabel = \"Quintile of Centrality to City Center\", ylabel = \"Sharpe Ratio, 1990-2021\", \n",
        "        title = \"San Diego, CA\")\n",
        "plot.get_figure().savefig(\"distance-Sharpe_r-sd.png\")\n",
        "plot.cla() "
      ],
      "metadata": {
        "id": "Qo60gw-zzhZP"
      },
      "execution_count": null,
      "outputs": []
    },
    {
      "cell_type": "markdown",
      "source": [
        "# part2"
      ],
      "metadata": {
        "id": "TwNBEL1-3vTD"
      }
    },
    {
      "cell_type": "markdown",
      "source": [
        "## a"
      ],
      "metadata": {
        "id": "-PThsxzB3yle"
      }
    },
    {
      "cell_type": "code",
      "source": [
        "import requests\n",
        "import zipfile\n",
        "import io\n",
        "import pandas as pd\n",
        "import numpy as np\n",
        "import datetime as dt\n",
        "import statsmodels.api as sm\n",
        "import math as math\n",
        "import matplotlib.pyplot as plt\n",
        "df = pd.read_csv('drive/MyDrive/hmda-2016.csv')"
      ],
      "metadata": {
        "id": "tYecO_lw3xVr"
      },
      "execution_count": 85,
      "outputs": []
    },
    {
      "cell_type": "markdown",
      "source": [
        "##b"
      ],
      "metadata": {
        "id": "a2lYocqg7ykD"
      }
    },
    {
      "cell_type": "code",
      "source": [
        "dfs=df.sample(frac=0.8,replace=False,random_state=1)"
      ],
      "metadata": {
        "id": "nFFLF8KvEMck"
      },
      "execution_count": 86,
      "outputs": []
    },
    {
      "cell_type": "markdown",
      "source": [
        "## c"
      ],
      "metadata": {
        "id": "7jjlaHCSJDtO"
      }
    },
    {
      "cell_type": "code",
      "source": [
        "dfs = dfs[(dfs['editStatus'] == \" \") & (dfs['loanPurpose'] == 1) & \n",
        "          (dfs['occupancy'] == 1) & (dfs['propType'] == 1) & (dfs['income'] != \"NA  \")]"
      ],
      "metadata": {
        "id": "oOXF2OSAGjOy"
      },
      "execution_count": 87,
      "outputs": []
    },
    {
      "cell_type": "markdown",
      "source": [
        "##d"
      ],
      "metadata": {
        "id": "hb2oPiJ7JE9D"
      }
    },
    {
      "cell_type": "code",
      "source": [
        "dfs['originated'] = (dfs[\"action\"] == 1).astype(int)\n",
        "dfs['denied'] = (dfs[\"action\"] == 3).astype(int)\n",
        "dfs['lti'] = dfs['amount'].astype(float) / dfs['income'].astype(float)\n",
        "#African- American or Hispanic\n",
        "dfs['minority'] = ((dfs['appEth'] == 1) | (dfs['appRace1'] == 3)).astype(int)\n",
        "dfs['majority'] = ((dfs['appEth'] != 1) & (dfs['appRace1'] != 3)).astype(int)"
      ],
      "metadata": {
        "id": "TFP7RvPdJGWP"
      },
      "execution_count": 88,
      "outputs": []
    },
    {
      "cell_type": "markdown",
      "source": [
        "##e"
      ],
      "metadata": {
        "id": "_yL2vE4Gkok4"
      }
    },
    {
      "cell_type": "code",
      "source": [
        "x1 = sm.add_constant(np.array(dfs['lti']))\n",
        "y = np.array(dfs['denied'])\n",
        "# Estimate Logistic Regression\n",
        "resultLogit = sm.Logit(y, x1).fit()\n",
        "plt.rc('figure', figsize=(8, 3))\n",
        "plt.text(0.01, 0.05, str(resultLogit.summary()), {'fontsize': 10}, fontproperties = 'monospace')\n",
        "plt.axis('off')\n",
        "plt.tight_layout()\n",
        "plt.savefig('output1.png')\n"
      ],
      "metadata": {
        "colab": {
          "base_uri": "https://localhost:8080/",
          "height": 265
        },
        "id": "xLpm0y5Ikp2M",
        "outputId": "240f421e-f4d6-4ead-d487-aa2e128345e9"
      },
      "execution_count": 91,
      "outputs": [
        {
          "output_type": "stream",
          "name": "stdout",
          "text": [
            "Optimization terminated successfully.\n",
            "         Current function value: 0.282519\n",
            "         Iterations 7\n"
          ]
        },
        {
          "output_type": "display_data",
          "data": {
            "text/plain": [
              "<Figure size 576x216 with 1 Axes>"
            ],
            "image/png": "[encoded data removed]"
          },
          "metadata": {
            "needs_background": "light"
          }
        }
      ]
    },
    {
      "cell_type": "code",
      "source": [
        "# Calculate Prediction\n",
        "predLogit = 1 / (1 + np.exp(- np.sum(x1 * resultLogit.params, axis = 1)))\n",
        "predLogit"
      ],
      "metadata": {
        "colab": {
          "base_uri": "https://localhost:8080/",
          "height": 0
        },
        "id": "XtjkvBaWnr5d",
        "outputId": "fa31701d-7f1d-4a86-845b-3c5a3dac52f6"
      },
      "execution_count": 93,
      "outputs": [
        {
          "output_type": "execute_result",
          "data": {
            "text/plain": [
              "array([0.07322027, 0.07685877, 0.08469864, ..., 0.0791198 , 0.07589692,\n",
              "       0.59369023])"
            ]
          },
          "metadata": {},
          "execution_count": 93
        }
      ]
    },
    {
      "cell_type": "markdown",
      "source": [
        "##g"
      ],
      "metadata": {
        "id": "MFGj65pOq6--"
      }
    },
    {
      "cell_type": "code",
      "source": [
        "x2 = sm.add_constant(np.transpose(np.array([dfs['lti'] , dfs['minority']])))\n",
        "y = np.array(dfs['denied'])\n",
        "# Estimate Logistic Regression\n",
        "resultLogit_new = sm.Logit(y, x2).fit()\n",
        "print(resultLogit_new.summary())"
      ],
      "metadata": {
        "colab": {
          "base_uri": "https://localhost:8080/",
          "height": 0
        },
        "id": "tPwuO1x5q6k8",
        "outputId": "6a20fdfe-4992-47eb-b326-47429c1b5d38"
      },
      "execution_count": 43,
      "outputs": [
        {
          "output_type": "stream",
          "name": "stdout",
          "text": [
            "Optimization terminated successfully.\n",
            "         Current function value: 0.280794\n",
            "         Iterations 7\n",
            "                           Logit Regression Results                           \n",
            "==============================================================================\n",
            "Dep. Variable:                      y   No. Observations:                40094\n",
            "Model:                          Logit   Df Residuals:                    40091\n",
            "Method:                           MLE   Df Model:                            2\n",
            "Date:                Thu, 13 Oct 2022   Pseudo R-squ.:                0.009418\n",
            "Time:                        05:30:36   Log-Likelihood:                -11258.\n",
            "converged:                       True   LL-Null:                       -11365.\n",
            "Covariance Type:            nonrobust   LLR p-value:                 3.265e-47\n",
            "==============================================================================\n",
            "                 coef    std err          z      P>|z|      [0.025      0.975]\n",
            "------------------------------------------------------------------------------\n",
            "const         -2.6801      0.032    -84.551      0.000      -2.742      -2.618\n",
            "x1             0.0501      0.008      6.353      0.000       0.035       0.066\n",
            "x2             0.5105      0.042     12.165      0.000       0.428       0.593\n",
            "==============================================================================\n"
          ]
        }
      ]
    },
    {
      "cell_type": "code",
      "source": [
        "predLogit_new = 1 / (1 + np.exp(- np.sum(x2 * resultLogit_new.params, axis = 1)))\n",
        "predLogit_new"
      ],
      "metadata": {
        "colab": {
          "base_uri": "https://localhost:8080/",
          "height": 0
        },
        "id": "hfIJPCMbp5UX",
        "outputId": "ea773814-4e68-4f27-cd68-1b236017819f"
      },
      "execution_count": 94,
      "outputs": [
        {
          "output_type": "execute_result",
          "data": {
            "text/plain": [
              "array([0.0667617 , 0.06974928, 0.12074764, ..., 0.07159998, 0.06896066,\n",
              "       0.49421686])"
            ]
          },
          "metadata": {},
          "execution_count": 94
        }
      ]
    },
    {
      "cell_type": "code",
      "source": [
        "plt.rc('figure', figsize=(8, 3))\n",
        "plt.text(0.01, 0.05, str(resultLogit_new.summary()), {'fontsize': 10}, fontproperties = 'monospace')\n",
        "plt.axis('off')\n",
        "plt.tight_layout()\n",
        "plt.savefig('output2.png')"
      ],
      "metadata": {
        "colab": {
          "base_uri": "https://localhost:8080/",
          "height": 222
        },
        "id": "PlvGZ8v6s2BB",
        "outputId": "4ff103c3-b41d-4d29-d905-248048bc4c74"
      },
      "execution_count": 26,
      "outputs": [
        {
          "output_type": "display_data",
          "data": {
            "text/plain": [
              "<Figure size 576x216 with 1 Axes>"
            ],
            "image/png": "[encoded data removed]"
          },
          "metadata": {
            "needs_background": "light"
          }
        }
      ]
    },
    {
      "cell_type": "markdown",
      "source": [
        "##h"
      ],
      "metadata": {
        "id": "j4bLMLiRtj32"
      }
    },
    {
      "cell_type": "code",
      "source": [
        "dfs.columns"
      ],
      "metadata": {
        "colab": {
          "base_uri": "https://localhost:8080/",
          "height": 0
        },
        "id": "lQz4huPp5EXU",
        "outputId": "6a4d1196-b9ec-411b-d794-cad3ca0c3de1"
      },
      "execution_count": 72,
      "outputs": [
        {
          "output_type": "execute_result",
          "data": {
            "text/plain": [
              "Index(['year', 'id', 'agency', 'loanType', 'propType', 'loanPurpose',\n",
              "       'occupancy', 'amount', 'action', 'msa', 'state', 'county', 'tract',\n",
              "       'appEth', 'appRace1', 'appSex', 'income', 'purchaserType', 'editStatus',\n",
              "       'tractMSAInc', 'numOwnerOccUnits', 'num1to4FamUnits', 'originated',\n",
              "       'denied', 'lti', 'minority', 'majority'],\n",
              "      dtype='object')"
            ]
          },
          "metadata": {},
          "execution_count": 72
        }
      ]
    },
    {
      "cell_type": "code",
      "source": [
        "x3 = sm.add_constant(np.transpose(np.array([dfs['appSex'], dfs['minority']])))\n",
        "y = np.array(dfs['denied'])\n",
        "# Estimate Logistic Regression\n",
        "resultLogit_mj = sm.Logit(y, x3).fit()\n",
        "print(resultLogit_mj.summary())"
      ],
      "metadata": {
        "colab": {
          "base_uri": "https://localhost:8080/",
          "height": 0
        },
        "id": "rO5IEYU3ycvL",
        "outputId": "d4ec8694-767c-41bd-dc15-4b60cc23744e"
      },
      "execution_count": 73,
      "outputs": [
        {
          "output_type": "stream",
          "name": "stdout",
          "text": [
            "Optimization terminated successfully.\n",
            "         Current function value: 0.281604\n",
            "         Iterations 6\n",
            "                           Logit Regression Results                           \n",
            "==============================================================================\n",
            "Dep. Variable:                      y   No. Observations:                40094\n",
            "Model:                          Logit   Df Residuals:                    40091\n",
            "Method:                           MLE   Df Model:                            2\n",
            "Date:                Thu, 13 Oct 2022   Pseudo R-squ.:                0.006563\n",
            "Time:                        05:58:54   Log-Likelihood:                -11291.\n",
            "converged:                       True   LL-Null:                       -11365.\n",
            "Covariance Type:            nonrobust   LLR p-value:                 4.030e-33\n",
            "==============================================================================\n",
            "                 coef    std err          z      P>|z|      [0.025      0.975]\n",
            "------------------------------------------------------------------------------\n",
            "const         -2.5036      0.044    -56.521      0.000      -2.590      -2.417\n",
            "x1            -0.0187      0.026     -0.721      0.471      -0.069       0.032\n",
            "x2             0.5255      0.042     12.518      0.000       0.443       0.608\n",
            "==============================================================================\n"
          ]
        }
      ]
    },
    {
      "cell_type": "markdown",
      "source": [
        "##i"
      ],
      "metadata": {
        "id": "n65cgyZ4t5q5"
      }
    },
    {
      "cell_type": "code",
      "source": [
        "plt.rc('figure', figsize=(8, 4))\n",
        "plot = plt.hist(100 / (1 + np.exp(- np.sum(x1 * resultLogit.params, axis = 1))), bins = 'auto', \n",
        "               range = (0, 20))\n",
        "plt.xlabel(\"Logit Probability of Denial (%)\")\n",
        "plt.savefig(\"logit-denied-LTI.png\")\n",
        "\n",
        "plt.rc('figure', figsize=(8, 4))\n",
        "plot = plt.hist(100 / (1 + np.exp(- np.sum(x2 * resultLogit_new.params, axis = 1))), bins = 'auto', \n",
        "               range = (0, 20))\n",
        "plt.xlabel(\"Logit Probability of Denial, With Race Data (%)\")\n",
        "plt.savefig(\"logit-denied-LTI-minority.png\")"
      ],
      "metadata": {
        "colab": {
          "base_uri": "https://localhost:8080/",
          "height": 279
        },
        "id": "wAs4HQd-t5S2",
        "outputId": "e8a3deb2-eebb-43ef-dd39-bb170612f8e1"
      },
      "execution_count": 97,
      "outputs": [
        {
          "output_type": "display_data",
          "data": {
            "text/plain": [
              "<Figure size 576x288 with 1 Axes>"
            ],
            "image/png": "[encoded data removed]"
          },
          "metadata": {
            "needs_background": "light"
          }
        }
      ]
    }
  ]
}